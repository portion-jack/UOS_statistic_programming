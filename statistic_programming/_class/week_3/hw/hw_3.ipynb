{
 "cells": [
  {
   "cell_type": "code",
   "execution_count": null,
   "metadata": {
    "collapsed": true,
    "pycharm": {
     "name": "#%%\n",
     "is_executing": true
    }
   },
   "outputs": [],
   "source": [
    "# ex6_2\n",
    "def ack(m,n):\n",
    "    if m == 0:\n",
    "        return n+1\n",
    "    elif (0<m) & (n==0):\n",
    "        return ack(m-1,1)\n",
    "    elif (0<m) & (0<n):\n",
    "        return ack(m-1,ack(m,n-1))\n",
    "ack(3,4)"
   ]
  },
  {
   "cell_type": "code",
   "execution_count": null,
   "outputs": [],
   "source": [
    "# ex6_2 + counts\n",
    "count = 0\n",
    "def ack(m,n):\n",
    "    global count\n",
    "    count += 1\n",
    "    if m == 0:\n",
    "        return n+1\n",
    "    elif (0<m) & (n==0):\n",
    "        return ack(m-1,1)\n",
    "    elif (0<m) & (0<n):\n",
    "        return ack(m-1,ack(m,n-1))\n",
    "print(f\"ack_ans:\\n->{ack(3, 4)}\")\n",
    "print(f\"calculation_count:\\n->{count}\")\n",
    "print(\"계산량이 발산하듯이 증가한다.\")"
   ],
   "metadata": {
    "collapsed": false,
    "pycharm": {
     "name": "#%%\n"
    }
   }
  },
  {
   "cell_type": "code",
   "execution_count": null,
   "outputs": [],
   "source": [
    "# 6_3\n",
    "\n",
    "# 6_3_1\n",
    "from palindrome import *\n",
    "middle(\"hi\") # 두글자 middle checking"
   ],
   "metadata": {
    "collapsed": false,
    "pycharm": {
     "name": "#%%\n"
    }
   }
  },
  {
   "cell_type": "code",
   "execution_count": null,
   "outputs": [],
   "source": [
    "middle(\"a\") # 한글자 middle checking"
   ],
   "metadata": {
    "collapsed": false,
    "pycharm": {
     "name": "#%%\n"
    }
   }
  },
  {
   "cell_type": "code",
   "execution_count": null,
   "outputs": [],
   "source": [
    "middle(\"\") # 공백 middle checking"
   ],
   "metadata": {
    "collapsed": false,
    "pycharm": {
     "name": "#%%\n"
    }
   }
  },
  {
   "cell_type": "code",
   "execution_count": null,
   "outputs": [],
   "source": [
    "# 6_3_2\n",
    "def is_palindrome(string):\n",
    "    _actual = list(string)\n",
    "    _reversed = _actual[::-1]\n",
    "    if _actual == _reversed:\n",
    "        return True\n",
    "    elif _actual != _reversed:\n",
    "        return False\n",
    "print(is_palindrome('noon'))\n",
    "print(is_palindrome('hello'))"
   ],
   "metadata": {
    "collapsed": false,
    "pycharm": {
     "name": "#%%\n"
    }
   }
  }
 ],
 "metadata": {
  "kernelspec": {
   "display_name": "Python 3",
   "language": "python",
   "name": "python3"
  },
  "language_info": {
   "codemirror_mode": {
    "name": "ipython",
    "version": 2
   },
   "file_extension": ".py",
   "mimetype": "text/x-python",
   "name": "python",
   "nbconvert_exporter": "python",
   "pygments_lexer": "ipython2",
   "version": "2.7.6"
  }
 },
 "nbformat": 4,
 "nbformat_minor": 0
}