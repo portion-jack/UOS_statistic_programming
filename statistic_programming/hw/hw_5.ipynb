{
 "cells": [
  {
   "cell_type": "code",
   "execution_count": null,
   "metadata": {
    "collapsed": true,
    "pycharm": {
     "name": "#%%\n"
    }
   },
   "outputs": [],
   "source": [
    "\"\"\"\n",
    "(1) 연습 10.1\n",
    "\n",
    "(2) 연습 10.4\n",
    "\n",
    "(3) 연습 10.5\n",
    "\n",
    "(4) 연습 11.2\n",
    "\n",
    "(5) 연습 11.3\n",
    "\"\"\""
   ]
  },
  {
   "cell_type": "code",
   "execution_count": 4,
   "outputs": [
    {
     "data": {
      "text/plain": "21"
     },
     "execution_count": 4,
     "metadata": {},
     "output_type": "execute_result"
    }
   ],
   "source": [
    "# (1) 연습 10.1\n",
    "def nested_sum(_list):\n",
    "    result = sum(sum(_list,[]))\n",
    "    return result\n",
    "\n",
    "t = [[1, 2], [3], [4, 5, 6]]\n",
    "\n",
    "nested_sum(t)"
   ],
   "metadata": {
    "collapsed": false,
    "pycharm": {
     "name": "#%%\n"
    }
   }
  },
  {
   "cell_type": "code",
   "execution_count": 20,
   "outputs": [
    {
     "name": "stdout",
     "output_type": "stream",
     "text": [
      "[2, 3]\n"
     ]
    }
   ],
   "source": [
    "# (2) 연습 10.4\n",
    "t = [1, 2, 3, 4]\n",
    "def chop(t):\n",
    "    del t[0]\n",
    "    del t[-1]\n",
    "    return None\n",
    "\n",
    "chop(t)\n",
    "print(t)"
   ],
   "metadata": {
    "collapsed": false,
    "pycharm": {
     "name": "#%%\n"
    }
   }
  },
  {
   "cell_type": "code",
   "execution_count": 21,
   "outputs": [
    {
     "name": "stdout",
     "output_type": "stream",
     "text": [
      "True\n",
      "False\n"
     ]
    }
   ],
   "source": [
    "# (3) 연습 10.5\n",
    "def is_sorted(_list):\n",
    "    if sorted(_list) == _list:\n",
    "        return True\n",
    "    elif sorted(_list) != _list:\n",
    "        return False\n",
    "print(is_sorted([1,2,2]))\n",
    "print(is_sorted(['b','a']))"
   ],
   "metadata": {
    "collapsed": false,
    "pycharm": {
     "name": "#%%\n"
    }
   }
  },
  {
   "cell_type": "code",
   "execution_count": 22,
   "outputs": [],
   "source": [
    "# (4) 연습 11.2\n",
    "def invert_dict(d):\n",
    "    inverse = dict()\n",
    "    for key in d:\n",
    "        val = d[key]\n",
    "        if val not in inverse:\n",
    "            inverse[val] = [key]\n",
    "        else:\n",
    "            inverse[val].append(key)\n",
    "    return inverse\n",
    "\n",
    "def invert_dict(d):\n",
    "    \"\"\"Inverts a dictionary, returning a map from val to a list of keys.\n",
    "    If the mapping key->val appears in d, then in the new dictionary\n",
    "    val maps to a list that includes key.\n",
    "    d: dict\n",
    "    Returns: dict\n",
    "    \"\"\"\n",
    "    inverse = {}\n",
    "    for key in d:\n",
    "        val = d[key]\n",
    "        inverse.setdefault(val, []).append(key)\n",
    "    return inverse"
   ],
   "metadata": {
    "collapsed": false,
    "pycharm": {
     "name": "#%%\n"
    }
   }
  },
  {
   "cell_type": "code",
   "execution_count": 47,
   "outputs": [
    {
     "name": "stdout",
     "output_type": "stream",
     "text": [
      "0.0020198822021484375\n",
      "0.2941110134124756\n"
     ]
    }
   ],
   "source": [
    "# (5) 연습 11.3\n",
    "import time\n",
    "\n",
    "cache = {}\n",
    "def ackermann_cache(m, n):\n",
    "    if m == 0:\n",
    "        return n+1\n",
    "    if n == 0:\n",
    "        return ackermann(m-1, 1)\n",
    "    if (m, n) in cache:\n",
    "        return cache[m, n]\n",
    "    else:\n",
    "        cache[m, n] = ackermann(m-1, ackermann(m, n-1))\n",
    "        return cache[m, n]\n",
    "\n",
    "st=time.time()\n",
    "ackermann_cache(3, 8)\n",
    "print(time.time()-st)\n",
    "\n",
    "def ackermann(m,n):\n",
    "    if m == 0:\n",
    "        return n+1\n",
    "    elif (0<m) & (n==0):\n",
    "        return ack(m-1,1)\n",
    "    elif (0<m) & (0<n):\n",
    "        return ack(m-1,ack(m,n-1))\n",
    "\n",
    "st=time.time()\n",
    "ackermann(3, 8)\n",
    "print(time.time()-st)"
   ],
   "metadata": {
    "collapsed": false,
    "pycharm": {
     "name": "#%%\n"
    }
   }
  }
 ],
 "metadata": {
  "kernelspec": {
   "display_name": "Python 3",
   "language": "python",
   "name": "python3"
  },
  "language_info": {
   "codemirror_mode": {
    "name": "ipython",
    "version": 2
   },
   "file_extension": ".py",
   "mimetype": "text/x-python",
   "name": "python",
   "nbconvert_exporter": "python",
   "pygments_lexer": "ipython2",
   "version": "2.7.6"
  }
 },
 "nbformat": 4,
 "nbformat_minor": 0
}