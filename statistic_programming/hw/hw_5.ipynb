{
 "cells": [
  {
   "cell_type": "code",
   "execution_count": 1,
   "metadata": {
    "collapsed": true,
    "pycharm": {
     "name": "#%%\n"
    }
   },
   "outputs": [
    {
     "data": {
      "text/plain": [
       "'\\n2019550031_김정우_hw5\\n\\n(1) 연습 10.1\\n\\n(2) 연습 10.4\\n\\n(3) 연습 10.5\\n\\n(4) 연습 11.2\\n\\n(5) 연습 11.3\\n'"
      ]
     },
     "execution_count": 1,
     "metadata": {},
     "output_type": "execute_result"
    }
   ],
   "source": [
    "\"\"\"\n",
    "2019550031_김정우_hw5\n",
    "\n",
    "(1) 연습 10.1\n",
    "\n",
    "(2) 연습 10.4\n",
    "\n",
    "(3) 연습 10.5\n",
    "\n",
    "(4) 연습 11.2\n",
    "\n",
    "(5) 연습 11.3\n",
    "\"\"\""
   ]
  },
  {
   "cell_type": "code",
   "execution_count": 2,
   "metadata": {
    "pycharm": {
     "name": "#%%\n"
    }
   },
   "outputs": [
    {
     "data": {
      "text/plain": [
       "21"
      ]
     },
     "execution_count": 2,
     "metadata": {},
     "output_type": "execute_result"
    }
   ],
   "source": [
    "# (1) 연습 10.1\n",
    "def nested_sum(_list):\n",
    "    result = sum(sum(_list,[]))\n",
    "    return result\n",
    "\n",
    "t = [[1, 2], [3], [4, 5, 6]]\n",
    "\n",
    "nested_sum(t)"
   ]
  },
  {
   "cell_type": "code",
   "execution_count": 3,
   "metadata": {
    "pycharm": {
     "name": "#%%\n"
    }
   },
   "outputs": [
    {
     "name": "stdout",
     "output_type": "stream",
     "text": [
      "[2, 3]\n"
     ]
    }
   ],
   "source": [
    "# (2) 연습 10.4\n",
    "t = [1, 2, 3, 4]\n",
    "def chop(t):\n",
    "    del t[0]\n",
    "    del t[-1]\n",
    "    return None\n",
    "\n",
    "chop(t)\n",
    "print(t)"
   ]
  },
  {
   "cell_type": "code",
   "execution_count": 4,
   "metadata": {
    "pycharm": {
     "name": "#%%\n"
    }
   },
   "outputs": [
    {
     "name": "stdout",
     "output_type": "stream",
     "text": [
      "True\n",
      "False\n"
     ]
    }
   ],
   "source": [
    "# (3) 연습 10.5\n",
    "def is_sorted(_list):\n",
    "    if sorted(_list) == _list:\n",
    "        return True\n",
    "    elif sorted(_list) != _list:\n",
    "        return False\n",
    "print(is_sorted([1,2,2]))\n",
    "print(is_sorted(['b','a']))"
   ]
  },
  {
   "cell_type": "code",
   "execution_count": 5,
   "metadata": {
    "pycharm": {
     "name": "#%%\n"
    }
   },
   "outputs": [],
   "source": [
    "# (4) 연습 11.2\n",
    "def invert_dict(d):\n",
    "    inverse = dict()\n",
    "    for key in d:\n",
    "        val = d[key]\n",
    "        if val not in inverse:\n",
    "            inverse[val] = [key]\n",
    "        else:\n",
    "            inverse[val].append(key)\n",
    "    return inverse\n",
    "\n",
    "def invert_dict(d):\n",
    "    inverse = {}\n",
    "    for key in d:\n",
    "        val = d[key]\n",
    "        inverse.setdefault(val, []).append(key)\n",
    "    return inverse"
   ]
  },
  {
   "cell_type": "code",
   "execution_count": 6,
   "metadata": {
    "pycharm": {
     "name": "#%%\n"
    }
   },
   "outputs": [
    {
     "name": "stdout",
     "output_type": "stream",
     "text": [
      "ack_with_cache\n",
      "0.2979390621185303\n",
      "ack_with_raw\n",
      "0.28052186965942383\n"
     ]
    }
   ],
   "source": [
    "# (5) 연습 11.3\n",
    "import time\n",
    "\n",
    "cache = {}\n",
    "def ack_cache(m, n):\n",
    "    if m == 0:\n",
    "        return n+1\n",
    "    if n == 0:\n",
    "        return ack(m-1, 1)\n",
    "    if (m, n) in cache:\n",
    "        return cache[m, n]\n",
    "    else:\n",
    "        cache[m, n] = ack(m-1, ack(m, n-1))\n",
    "        return cache[m, n]\n",
    "\n",
    "# ex6_2\n",
    "def ack(m,n):\n",
    "    if m == 0:\n",
    "        return n+1\n",
    "    elif (0<m) & (n==0):\n",
    "        return ack(m-1,1)\n",
    "    elif (0<m) & (0<n):\n",
    "        return ack(m-1,ack(m,n-1))\n",
    "\n",
    "st=time.time()\n",
    "ack_cache(3, 8)\n",
    "print(\"ack_with_cache\")\n",
    "print(time.time()-st)\n",
    "\n",
    "st=time.time()\n",
    "ack(3, 8)\n",
    "print(\"ack_with_raw\")\n",
    "print(time.time()-st)"
   ]
  }
 ],
 "metadata": {
  "kernelspec": {
   "display_name": "Python 3 (ipykernel)",
   "language": "python",
   "name": "python3"
  },
  "language_info": {
   "codemirror_mode": {
    "name": "ipython",
    "version": 3
   },
   "file_extension": ".py",
   "mimetype": "text/x-python",
   "name": "python",
   "nbconvert_exporter": "python",
   "pygments_lexer": "ipython3",
   "version": "3.10.6"
  }
 },
 "nbformat": 4,
 "nbformat_minor": 1
}