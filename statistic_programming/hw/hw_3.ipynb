{
 "cells": [
  {
   "cell_type": "markdown",
   "source": [
    "# 고급통계프로그래밍_hw3_물리학과_김정우_2019550031"
   ],
   "metadata": {
    "collapsed": false,
    "pycharm": {
     "name": "#%% md\n"
    }
   }
  },
  {
   "cell_type": "code",
   "execution_count": 9,
   "outputs": [
    {
     "data": {
      "text/plain": "'\\n과제 3\\n(1) 연습 6.2 (10점)\\n\\n(2) 연습 6.3 (10점)\\n\\n(3) 연습 7.2 (10점)\\n'"
     },
     "execution_count": 9,
     "metadata": {},
     "output_type": "execute_result"
    }
   ],
   "source": [
    "\"\"\"\n",
    "과제 3\n",
    "(1) 연습 6.2 (10점)\n",
    "\n",
    "(2) 연습 6.3 (10점)\n",
    "\n",
    "(3) 연습 7.2 (10점)\n",
    "\"\"\""
   ],
   "metadata": {
    "collapsed": false,
    "pycharm": {
     "name": "#%%\n"
    }
   }
  },
  {
   "cell_type": "markdown",
   "metadata": {
    "pycharm": {
     "name": "#%% md\n"
    }
   },
   "source": [
    "# ex6_2"
   ]
  },
  {
   "cell_type": "code",
   "execution_count": 10,
   "metadata": {
    "pycharm": {
     "name": "#%%\n"
    }
   },
   "outputs": [
    {
     "data": {
      "text/plain": "125"
     },
     "execution_count": 10,
     "metadata": {},
     "output_type": "execute_result"
    }
   ],
   "source": [
    "# ex6_2\n",
    "def ack(m,n):\n",
    "    if m == 0:\n",
    "        return n+1\n",
    "    elif (0<m) & (n==0):\n",
    "        return ack(m-1,1)\n",
    "    elif (0<m) & (0<n):\n",
    "        return ack(m-1,ack(m,n-1))\n",
    "ack(3,4)"
   ]
  },
  {
   "cell_type": "code",
   "execution_count": 11,
   "metadata": {
    "pycharm": {
     "name": "#%%\n"
    }
   },
   "outputs": [
    {
     "name": "stdout",
     "output_type": "stream",
     "text": [
      "ack_ans:\n",
      "->125\n",
      "calculation_count:\n",
      "->10307\n",
      "계산량이 발산하듯이 증가한다.\n"
     ]
    }
   ],
   "source": [
    "# ex6_2 + counts\n",
    "count = 0\n",
    "def ack(m,n):\n",
    "    global count\n",
    "    count += 1\n",
    "    if m == 0:\n",
    "        return n+1\n",
    "    elif (0<m) & (n==0):\n",
    "        return ack(m-1,1)\n",
    "    elif (0<m) & (0<n):\n",
    "        return ack(m-1,ack(m,n-1))\n",
    "print(f\"ack_ans:\\n->{ack(3, 4)}\")\n",
    "print(f\"calculation_count:\\n->{count}\")\n",
    "print(\"계산량이 발산하듯이 증가한다.\")"
   ]
  },
  {
   "cell_type": "markdown",
   "metadata": {
    "pycharm": {
     "name": "#%% md\n"
    }
   },
   "source": [
    "# ex6_3"
   ]
  },
  {
   "cell_type": "code",
   "execution_count": 12,
   "metadata": {
    "pycharm": {
     "name": "#%%\n"
    }
   },
   "outputs": [
    {
     "data": {
      "text/plain": "''"
     },
     "execution_count": 12,
     "metadata": {},
     "output_type": "execute_result"
    }
   ],
   "source": [
    "\"\"\"\n",
    "palindrome.py\n",
    "\n",
    "def first(word):\n",
    "    return word[0]\n",
    "\n",
    "\n",
    "def last(word):\n",
    "    return word[-1]\n",
    "\n",
    "\n",
    "def middle(word):\n",
    "    return word[1:-1]\n",
    "\n",
    "\"\"\"\n",
    "# 6_3\n",
    "\n",
    "# 6_3_1\n",
    "from palindrome import *\n",
    "# What happens if you call middle with a string with two letters?\n",
    "middle(\"hi\")"
   ]
  },
  {
   "cell_type": "code",
   "execution_count": 13,
   "metadata": {
    "pycharm": {
     "name": "#%%\n"
    }
   },
   "outputs": [
    {
     "data": {
      "text/plain": "''"
     },
     "execution_count": 13,
     "metadata": {},
     "output_type": "execute_result"
    }
   ],
   "source": [
    "# One letter?\n",
    "middle(\"a\") # 한글자 middle checking"
   ]
  },
  {
   "cell_type": "code",
   "execution_count": 14,
   "metadata": {
    "pycharm": {
     "name": "#%%\n"
    }
   },
   "outputs": [
    {
     "data": {
      "text/plain": "''"
     },
     "execution_count": 14,
     "metadata": {},
     "output_type": "execute_result"
    }
   ],
   "source": [
    "# What about the empty string, which is written '' and contains no letters?\n",
    "middle(\"\") # 공백 middle checking"
   ]
  },
  {
   "cell_type": "code",
   "execution_count": 15,
   "metadata": {
    "pycharm": {
     "name": "#%%\n"
    }
   },
   "outputs": [
    {
     "name": "stdout",
     "output_type": "stream",
     "text": [
      "True\n",
      "False\n"
     ]
    }
   ],
   "source": [
    "# 6_3_2\n",
    "def is_palindrome(string):\n",
    "    _actual = list(string)\n",
    "    _reversed = _actual[::-1]\n",
    "    if _actual == _reversed:\n",
    "        return True\n",
    "    elif _actual != _reversed:\n",
    "        return False\n",
    "print(is_palindrome('noon'))\n",
    "print(is_palindrome('hello'))"
   ]
  },
  {
   "cell_type": "markdown",
   "metadata": {
    "pycharm": {
     "name": "#%% md\n"
    }
   },
   "source": [
    "# ex7_2"
   ]
  },
  {
   "cell_type": "code",
   "execution_count": 16,
   "metadata": {
    "pycharm": {
     "name": "#%%\n"
    }
   },
   "outputs": [
    {
     "name": "stdout",
     "output_type": "stream",
     "text": [
      "0\n",
      "-1\n",
      "True\n"
     ]
    }
   ],
   "source": [
    "def eval_loop():\n",
    "    while True:\n",
    "        _input = input(\"입력 : \\n\")\n",
    "        if _input == \"done\":\n",
    "            break\n",
    "        print(eval(_input))\n",
    "    return None\n",
    "eval_loop()"
   ]
  }
 ],
 "metadata": {
  "kernelspec": {
   "display_name": "Python 3 (ipykernel)",
   "language": "python",
   "name": "python3"
  },
  "language_info": {
   "codemirror_mode": {
    "name": "ipython",
    "version": 3
   },
   "file_extension": ".py",
   "mimetype": "text/x-python",
   "name": "python",
   "nbconvert_exporter": "python",
   "pygments_lexer": "ipython3",
   "version": "3.10.6"
  }
 },
 "nbformat": 4,
 "nbformat_minor": 1
}