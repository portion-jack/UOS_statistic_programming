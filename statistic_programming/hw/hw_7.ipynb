{
 "cells": [
  {
   "cell_type": "code",
   "execution_count": 78,
   "metadata": {
    "pycharm": {
     "name": "#%%\n"
    }
   },
   "outputs": [
    {
     "data": {
      "text/plain": [
       "'\\n2019550031_김정우_물리학과\\n\\n(1) 연습 15.1 \\n\\n(2) 연습 16.2\\n'"
      ]
     },
     "execution_count": 78,
     "metadata": {},
     "output_type": "execute_result"
    }
   ],
   "source": [
    "\"\"\"\n",
    "2019550031_김정우_물리학과\n",
    "\n",
    "(1) 연습 15.1 \n",
    "\n",
    "(2) 연습 16.2\n",
    "\"\"\""
   ]
  },
  {
   "cell_type": "code",
   "execution_count": 79,
   "metadata": {
    "pycharm": {
     "name": "#%%\n"
    }
   },
   "outputs": [],
   "source": [
    "# (1) 연습 15.1 \n",
    "class Circle:\n",
    "    def __init__(self,point,radius) -> None:\n",
    "        self.point = point\n",
    "        self.radius = radius\n",
    "    \n",
    "    def point_in_circle(self,_point) -> bool:\n",
    "        # 1. \n",
    "        x,y = self.point[0],self.point[1]\n",
    "        _x,_y = _point[0],_point[1]\n",
    "        point2point = ((x-_x)**2 + (y-_y)**2)**0.5\n",
    "        if point2point > self.radius:\n",
    "            return False\n",
    "        else:\n",
    "            return True\n",
    "    \n",
    "    def rect_in_circle(self,_point_1,_point_2,_point_3,_point_4) -> bool:\n",
    "        x_1,y_1 = _point_1[0],_point_1[1]\n",
    "        x_2,y_2 = _point_2[0],_point_2[1]\n",
    "        x_3,y_3 = _point_3[0],_point_3[1]\n",
    "        x_4,y_4 = _point_4[0],_point_4[1]\n",
    "        x,y = self.point[0],self.point[1]\n",
    "        if ((((x-x_1)**2 + (y-y_1)**2)**0.5) <= self.radius) &\\\n",
    "           ((((x-x_2)**2 + (y-y_2)**2)**0.5) <= self.radius) &\\\n",
    "           ((((x-x_3)**2 + (y-y_3)**2)**0.5) <= self.radius) &\\\n",
    "           ((((x-x_4)**2 + (y-y_4)**2)**0.5) <= self.radius):\n",
    "               return True\n",
    "        else:\n",
    "            return False\n",
    "    \n",
    "    def rect_circle_overlab(self,_point_1,_point_2,_point_3,_point_4) -> bool:\n",
    "        x_1,y_1 = _point_1[0],_point_1[1]\n",
    "        x_2,y_2 = _point_2[0],_point_2[1]\n",
    "        x_3,y_3 = _point_3[0],_point_3[1]\n",
    "        x_4,y_4 = _point_4[0],_point_4[1]\n",
    "        x,y = self.point[0],self.point[1]\n",
    "        if ((((x-x_1)**2 + (y-y_1)**2)**0.5) <= self.radius) |\\\n",
    "           ((((x-x_2)**2 + (y-y_2)**2)**0.5) <= self.radius) |\\\n",
    "           ((((x-x_3)**2 + (y-y_3)**2)**0.5) <= self.radius) |\\\n",
    "           ((((x-x_4)**2 + (y-y_4)**2)**0.5) <= self.radius):\n",
    "               return True\n",
    "        else:\n",
    "            return False"
   ]
  },
  {
   "cell_type": "code",
   "execution_count": 80,
   "metadata": {
    "pycharm": {
     "name": "#%%\n"
    }
   },
   "outputs": [],
   "source": [
    "my_circle=Circle((5,5),3)"
   ]
  },
  {
   "cell_type": "code",
   "execution_count": 81,
   "metadata": {
    "pycharm": {
     "name": "#%%\n"
    }
   },
   "outputs": [
    {
     "data": {
      "text/plain": [
       "True"
      ]
     },
     "execution_count": 81,
     "metadata": {},
     "output_type": "execute_result"
    }
   ],
   "source": [
    "my_circle.point_in_circle((4,3))"
   ]
  },
  {
   "cell_type": "code",
   "execution_count": 83,
   "metadata": {
    "pycharm": {
     "name": "#%%\n"
    }
   },
   "outputs": [
    {
     "name": "stdout",
     "output_type": "stream",
     "text": [
      "\n",
      "16_2_1\n",
      "2022-11-09-Wednesday\n",
      "\n",
      "16_2_2\n",
      "나이 : 24\n",
      "생일 까지 남은 시간 \n",
      "(이번년도 생일은 지났어요!) \n",
      ":263 days, 11:26:25.996481\n",
      "\n",
      "16_2_3\n",
      "두번째 분이 2.105배 살았어요\n"
     ]
    }
   ],
   "source": [
    "# (2) 연습 16.2\n",
    "import datetime\n",
    "\n",
    "# 16_2_1\n",
    "print('\\n16_2_1')\n",
    "cur_time = datetime.datetime.now()\n",
    "print(f\"{cur_time.strftime('%Y-%m-%d-%A')}\")\n",
    "\n",
    "# 16_2_2\n",
    "print('\\n16_2_2')\n",
    "my_birth_s = '1998-7-31'\n",
    "\n",
    "my_birth_d = datetime.datetime.strptime(my_birth_s,'%Y-%m-%d')\n",
    "print(f'나이 : {cur_time.year - my_birth_d.year}')\n",
    "my_birth_d=my_birth_d.replace(year=cur_time.year)\n",
    "if my_birth_d  < cur_time:\n",
    "    my_birth_d=my_birth_d.replace(year=cur_time.year+1)\n",
    "    print(f'생일 까지 남은 시간 \\n(이번년도 생일은 지났어요!) \\n:{my_birth_d-cur_time}')\n",
    "else:\n",
    "    print(f'생일 까지 남은 시간! \\n: {my_birth_d-cur_time}')\n",
    "\n",
    "# 16_2_3\n",
    "print('\\n16_2_3')\n",
    "person_a_s = '1998-7-31'\n",
    "person_b_s = '1971-10-04'\n",
    "\n",
    "person_a_d = datetime.datetime.strptime(person_a_s,'%Y-%m-%d')\n",
    "person_b_d = datetime.datetime.strptime(person_b_s,'%Y-%m-%d')\n",
    "\n",
    "person_a_age=(cur_time-person_a_d).days\n",
    "person_b_age=(cur_time-person_b_d).days\n",
    "\n",
    "if person_a_age == person_b_age:\n",
    "    print('둘 나이는 정확히 같아요!')\n",
    "elif person_a_age == max(person_a_age,person_b_age):\n",
    "    print(f'첫번째 분이 {round(max(person_a_age,person_b_age)/min(person_a_age,person_b_age),3)}배 살았어요')\n",
    "elif person_b_age == max(person_a_age,person_b_age):\n",
    "    print(f'두번째 분이 {round(max(person_a_age,person_b_age)/min(person_a_age,person_b_age),3)}배 살았어요')\n"
   ]
  },
  {
   "cell_type": "code",
   "execution_count": null,
   "metadata": {
    "pycharm": {
     "name": "#%%\n"
    }
   },
   "outputs": [],
   "source": []
  }
 ],
 "metadata": {
  "kernelspec": {
   "display_name": "Python 3 (ipykernel)",
   "language": "python",
   "name": "python3"
  },
  "language_info": {
   "codemirror_mode": {
    "name": "ipython",
    "version": 3
   },
   "file_extension": ".py",
   "mimetype": "text/x-python",
   "name": "python",
   "nbconvert_exporter": "python",
   "pygments_lexer": "ipython3",
   "version": "3.10.6"
  },
  "vscode": {
   "interpreter": {
    "hash": "2cc02b6827d4e48bdb17b601e2cf3ca7528df542fe49cf0d22abb2d5104cfdac"
   }
  }
 },
 "nbformat": 4,
 "nbformat_minor": 2
}