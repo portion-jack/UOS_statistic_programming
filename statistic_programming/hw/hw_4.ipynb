{
 "cells": [
  {
   "cell_type": "markdown",
   "source": [
    "# 2019550031_김정우_고급통계프로그래밍_과제4"
   ],
   "metadata": {
    "collapsed": false,
    "pycharm": {
     "name": "#%% md\n"
    }
   }
  },
  {
   "cell_type": "code",
   "execution_count": 1,
   "metadata": {
    "collapsed": true,
    "pycharm": {
     "name": "#%%\n"
    }
   },
   "outputs": [
    {
     "data": {
      "text/plain": [
       "'\\n과제 4\\n(1) 연습 8.1 (10점)\\n\\n(2) 연습 8.4 (10점)\\n\\n(3) 연습 8.5 (10점)\\n'"
      ]
     },
     "execution_count": 1,
     "metadata": {},
     "output_type": "execute_result"
    }
   ],
   "source": [
    "\"\"\"\n",
    "과제 4\n",
    "(1) 연습 8.1 (10점)\n",
    "\n",
    "(2) 연습 8.4 (10점)\n",
    "\n",
    "(3) 연습 8.5 (10점)\n",
    "\"\"\""
   ]
  },
  {
   "cell_type": "markdown",
   "metadata": {
    "pycharm": {
     "name": "#%% md\n"
    }
   },
   "source": [
    "# ex8_1"
   ]
  },
  {
   "cell_type": "code",
   "execution_count": 2,
   "metadata": {
    "pycharm": {
     "name": "#%%\n"
    }
   },
   "outputs": [
    {
     "data": {
      "text/plain": [
       "'\\nExercise 1\\nRead the documentation of the string methods at http://docs.python.org/3/library/stdtypes.html#string-methods. You might want to experiment with some of them to make sure you understand how they work. strip and replace are particularly useful.\\n\\nThe documentation uses a syntax that might be confusing. For example, in find(sub[, start[, end]]), the brackets indicate optional arguments. So sub is required, but start is optional, and if you include start, then end is optional.\\n'"
      ]
     },
     "execution_count": 2,
     "metadata": {},
     "output_type": "execute_result"
    }
   ],
   "source": [
    "\"\"\"\n",
    "Exercise 1\n",
    "Read the documentation of the string methods at http://docs.python.org/3/library/stdtypes.html#string-methods. You might want to experiment with some of them to make sure you understand how they work. strip and replace are particularly useful.\n",
    "\n",
    "The documentation uses a syntax that might be confusing. For example, in find(sub[, start[, end]]), the brackets indicate optional arguments. So sub is required, but start is optional, and if you include start, then end is optional.\n",
    "\"\"\""
   ]
  },
  {
   "cell_type": "code",
   "execution_count": 3,
   "metadata": {
    "pycharm": {
     "name": "#%%\n"
    }
   },
   "outputs": [
    {
     "name": "stdout",
     "output_type": "stream",
     "text": [
      " you look so good in a night gown girl   \n",
      "               --strips--\n",
      "you look so good in a night gown girl   \n",
      " you look so good in a night gown girl\n",
      "you look so good in a night gown girl\n",
      "               --replace--\n",
      " you look so precious in a night gown girl   \n",
      " You look so good in a night gown girl   \n",
      " you look so good in a shower gown girl   \n"
     ]
    }
   ],
   "source": [
    "my_string = \" you look so good in a night gown girl   \"\n",
    "\n",
    "print(my_string)\n",
    "print(\"--strips--\".rjust(25))\n",
    "print(my_string.lstrip())\n",
    "print(my_string.rstrip())\n",
    "print(my_string.strip())\n",
    "print(\"--replace--\".rjust(26))\n",
    "print(my_string.replace('good','precious'))\n",
    "print(my_string.replace('you','You'))\n",
    "print(my_string.replace('night','shower'))"
   ]
  },
  {
   "cell_type": "markdown",
   "metadata": {
    "pycharm": {
     "name": "#%% md\n"
    }
   },
   "source": [
    "# ex8_4"
   ]
  },
  {
   "cell_type": "code",
   "execution_count": 4,
   "metadata": {
    "pycharm": {
     "name": "#%%\n"
    }
   },
   "outputs": [
    {
     "data": {
      "text/plain": [
       "'\\n그러므로, 하나라도 소문자가 있으면 True를 반환하는 함수는\\nany_lowercase4(s) 라고 할 수 있다.\\n'"
      ]
     },
     "execution_count": 4,
     "metadata": {},
     "output_type": "execute_result"
    }
   ],
   "source": [
    "def any_lowercase1(s):\n",
    "    for c in s:\n",
    "        if c.islower():\n",
    "            print(c)\n",
    "            return True\n",
    "        else:\n",
    "            return False\n",
    "# return 문이 있어서 s의 첫번째 문자만 보고 참, 거짓을 판단한다.\n",
    "# False\n",
    "def any_lowercase2(s):\n",
    "    for c in s:\n",
    "        if 'c'.islower():\n",
    "            return 'True'\n",
    "        else:\n",
    "            return 'False'\n",
    "# s와 관련된 문자가 아닌 'c'가 소문자인지 확인한다.\n",
    "# 어떤 s가 와도 return 값이 같으며 return 값 또한 boolean이 아닌 string을 반환한다.\n",
    "# False\n",
    "\n",
    "def any_lowercase3(s):\n",
    "    for c in s:\n",
    "        flag = c.islower()\n",
    "    return flag\n",
    "# s의 마지막 문자가 소문자이기만 하면 참을 준다.\n",
    "# s의 모든 문자가 아닌 마지막 문자만 보고 return 값을 준다.\n",
    "# False\n",
    "\n",
    "def any_lowercase4(s):\n",
    "    flag = False\n",
    "    for c in s:\n",
    "        flag = flag or c.islower()\n",
    "    return flag\n",
    "# False or False : False\n",
    "# False or True : True\n",
    "# True or True : True\n",
    "# s에서 하나만 소문자가 있어도 True를 반환한다.\n",
    "# True\n",
    "def any_lowercase5(s):\n",
    "    for c in s:\n",
    "        if not c.islower():\n",
    "            return False\n",
    "    return True\n",
    "# s의 문자열 중 하나라도 대문자이면 False를 반환한다\n",
    "# False\n",
    "\n",
    "\"\"\"\n",
    "그러므로, 하나라도 소문자가 있으면 True를 반환하는 함수는\n",
    "any_lowercase4(s) 라고 할 수 있다.\n",
    "\"\"\""
   ]
  },
  {
   "cell_type": "markdown",
   "metadata": {
    "pycharm": {
     "name": "#%% md\n"
    }
   },
   "source": [
    "# ex8_5"
   ]
  },
  {
   "cell_type": "code",
   "execution_count": 5,
   "metadata": {
    "pycharm": {
     "name": "#%%\n"
    }
   },
   "outputs": [],
   "source": [
    "def rotate_word(s,n):\n",
    "    _ans = list()\n",
    "    for _ in s:\n",
    "\n",
    "        if _.isupper():\n",
    "            if ord(_) + n > ord('Z'):\n",
    "                _ans.append(chr(ord(_)-(26-n)))\n",
    "            elif ord(_) + n < ord('A'):\n",
    "                _ans.append(chr(ord(_)+(26+n)))\n",
    "            else:\n",
    "                _ans.append(chr(ord(_)+n))\n",
    "\n",
    "        elif _.islower():\n",
    "            if ord(_) + n > ord('z'):\n",
    "                _ans.append(chr(ord(_)-(26-n)))\n",
    "            elif ord(_) + n < ord('a'):\n",
    "                _ans.append(chr(ord(_)+(26+n)))\n",
    "            else:\n",
    "                _ans.append(chr(ord(_)+n))\n",
    "\n",
    "    result = ''.join(_ans)\n",
    "    return  result"
   ]
  },
  {
   "cell_type": "code",
   "execution_count": 6,
   "metadata": {
    "pycharm": {
     "name": "#%%\n"
    }
   },
   "outputs": [
    {
     "name": "stdout",
     "output_type": "stream",
     "text": [
      "jolly\n"
     ]
    }
   ],
   "source": [
    "print(rotate_word('cheer',7))"
   ]
  },
  {
   "cell_type": "code",
   "execution_count": 7,
   "metadata": {
    "pycharm": {
     "name": "#%%\n"
    }
   },
   "outputs": [
    {
     "data": {
      "text/plain": [
       "'cubed'"
      ]
     },
     "execution_count": 7,
     "metadata": {},
     "output_type": "execute_result"
    }
   ],
   "source": [
    "rotate_word('melon',-10)"
   ]
  },
  {
   "cell_type": "code",
   "execution_count": 8,
   "metadata": {
    "pycharm": {
     "name": "#%%\n"
    }
   },
   "outputs": [
    {
     "data": {
      "text/plain": [
       "'HAL'"
      ]
     },
     "execution_count": 8,
     "metadata": {},
     "output_type": "execute_result"
    }
   ],
   "source": [
    "rotate_word('IBM',-1)"
   ]
  },
  {
   "cell_type": "code",
   "execution_count": 9,
   "metadata": {
    "pycharm": {
     "name": "#%%\n"
    }
   },
   "outputs": [
    {
     "data": {
      "text/plain": [
       "\"\\nExercise 5\\nA Caesar cypher is a weak form of encryption that involves “rotating” each letter by a fixed number of places. To rotate a letter means to shift it through the alphabet, wrapping around to the beginning if necessary, so ’A’ rotated by 3 is ’D’ and ’Z’ rotated by 1 is ’A’.\\n\\nTo rotate a word, rotate each letter by the same amount. For example, “cheer” rotated by 7 is “jolly” and “melon” rotated by -10 is “cubed”. In the movie 2001: A Space Odyssey, the ship computer is called HAL, which is IBM rotated by -1.\\n\\nWrite a function called rotate_word that takes a string and an integer as parameters, and returns a new string that contains the letters from the original string rotated by the given amount.\\n\\nYou might want to use the built-in function ord, which converts a character to a numeric code, and chr, which converts numeric codes to characters. Letters of the alphabet are encoded in alphabetical order, so for example:\\n\\n>>> ord('c') - ord('a')\\n2\\nBecause 'c' is the two-eth letter of the alphabet. But beware: the numeric codes for upper case letters are different.\\n\\nPotentially offensive jokes on the Internet are sometimes encoded in ROT13, which is a Caesar cypher with rotation 13. If you are not easily offended, find and decode some of them. Solution:\\n\""
      ]
     },
     "execution_count": 9,
     "metadata": {},
     "output_type": "execute_result"
    }
   ],
   "source": [
    "\"\"\"\n",
    "Exercise 5\n",
    "A Caesar cypher is a weak form of encryption that involves “rotating” each letter by a fixed number of places. To rotate a letter means to shift it through the alphabet, wrapping around to the beginning if necessary, so ’A’ rotated by 3 is ’D’ and ’Z’ rotated by 1 is ’A’.\n",
    "\n",
    "To rotate a word, rotate each letter by the same amount. For example, “cheer” rotated by 7 is “jolly” and “melon” rotated by -10 is “cubed”. In the movie 2001: A Space Odyssey, the ship computer is called HAL, which is IBM rotated by -1.\n",
    "\n",
    "Write a function called rotate_word that takes a string and an integer as parameters, and returns a new string that contains the letters from the original string rotated by the given amount.\n",
    "\n",
    "You might want to use the built-in function ord, which converts a character to a numeric code, and chr, which converts numeric codes to characters. Letters of the alphabet are encoded in alphabetical order, so for example:\n",
    "\n",
    ">>> ord('c') - ord('a')\n",
    "2\n",
    "Because 'c' is the two-eth letter of the alphabet. But beware: the numeric codes for upper case letters are different.\n",
    "\n",
    "Potentially offensive jokes on the Internet are sometimes encoded in ROT13, which is a Caesar cypher with rotation 13. If you are not easily offended, find and decode some of them. Solution:\n",
    "\"\"\""
   ]
  },
  {
   "cell_type": "code",
   "execution_count": null,
   "metadata": {
    "pycharm": {
     "name": "#%%\n"
    }
   },
   "outputs": [],
   "source": []
  }
 ],
 "metadata": {
  "kernelspec": {
   "display_name": "Python 3 (ipykernel)",
   "language": "python",
   "name": "python3"
  },
  "language_info": {
   "codemirror_mode": {
    "name": "ipython",
    "version": 3
   },
   "file_extension": ".py",
   "mimetype": "text/x-python",
   "name": "python",
   "nbconvert_exporter": "python",
   "pygments_lexer": "ipython3",
   "version": "3.10.6"
  }
 },
 "nbformat": 4,
 "nbformat_minor": 1
}