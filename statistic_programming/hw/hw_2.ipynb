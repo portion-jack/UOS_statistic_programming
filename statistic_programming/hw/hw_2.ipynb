{
 "cells": [
  {
   "cell_type": "code",
   "execution_count": null,
   "metadata": {
    "collapsed": true,
    "pycharm": {
     "name": "#%%\n"
    }
   },
   "outputs": [],
   "source": [
    "\"\"\"\n",
    "과제 2\n",
    "(1) 연습 3.1(10점)\n",
    "\n",
    "(2) 연습 3.2(10점)\n",
    "\n",
    "(3) 연습 5.2(10점)\n",
    "\"\"\""
   ]
  },
  {
   "cell_type": "markdown",
   "source": [
    "# 3_1"
   ],
   "metadata": {
    "collapsed": false,
    "pycharm": {
     "name": "#%% md\n"
    }
   }
  },
  {
   "cell_type": "code",
   "execution_count": 1,
   "outputs": [
    {
     "name": "stdout",
     "output_type": "stream",
     "text": [
      "                                                                 monty\n"
     ]
    }
   ],
   "source": [
    "def right_justify(s):\n",
    "    _space = 70-len(s)\n",
    "    print(\" \"*_space+s)\n",
    "    return None\n",
    "\n",
    "right_justify(\"monty\")"
   ],
   "metadata": {
    "collapsed": false,
    "pycharm": {
     "name": "#%%\n"
    }
   }
  },
  {
   "cell_type": "markdown",
   "source": [
    "# 3_2"
   ],
   "metadata": {
    "collapsed": false,
    "pycharm": {
     "name": "#%% md\n"
    }
   }
  },
  {
   "cell_type": "code",
   "execution_count": 2,
   "outputs": [
    {
     "name": "stdout",
     "output_type": "stream",
     "text": [
      "spam\n",
      "spam\n"
     ]
    }
   ],
   "source": [
    "# 3_2_1\n",
    "def do_twice(f):\n",
    "    f()\n",
    "    f()\n",
    "    return None\n",
    "\n",
    "def print_spam():\n",
    "    print(\"spam\")\n",
    "    return None\n",
    "\n",
    "do_twice(print_spam)"
   ],
   "metadata": {
    "collapsed": false,
    "pycharm": {
     "name": "#%%\n"
    }
   }
  },
  {
   "cell_type": "code",
   "execution_count": 3,
   "outputs": [],
   "source": [
    "#3_2_2\n",
    "def do_twice(f,arg):\n",
    "    f(arg)\n",
    "    f(arg)\n",
    "    return None"
   ],
   "metadata": {
    "collapsed": false,
    "pycharm": {
     "name": "#%%\n"
    }
   }
  },
  {
   "cell_type": "code",
   "execution_count": 4,
   "outputs": [],
   "source": [
    "#3_2_3\n",
    "def print_twice(arg):\n",
    "    print(arg)\n",
    "    print(arg)\n",
    "    return None"
   ],
   "metadata": {
    "collapsed": false,
    "pycharm": {
     "name": "#%%\n"
    }
   }
  },
  {
   "cell_type": "code",
   "execution_count": 5,
   "outputs": [
    {
     "name": "stdout",
     "output_type": "stream",
     "text": [
      "spam\n",
      "spam\n",
      "spam\n",
      "spam\n"
     ]
    }
   ],
   "source": [
    "#3_2_4\n",
    "do_twice(print_twice,\"spam\")"
   ],
   "metadata": {
    "collapsed": false,
    "pycharm": {
     "name": "#%%\n"
    }
   }
  },
  {
   "cell_type": "code",
   "execution_count": 6,
   "outputs": [
    {
     "name": "stdout",
     "output_type": "stream",
     "text": [
      "spam\n",
      "spam\n",
      "spam\n",
      "spam\n",
      "spam\n",
      "spam\n",
      "spam\n",
      "spam\n"
     ]
    }
   ],
   "source": [
    "#3_2_5\n",
    "def do_four(f,arg):\n",
    "    do_twice(f,arg)\n",
    "    do_twice(f,arg)\n",
    "    return None\n",
    "\n",
    "do_four(print_twice,\"spam\")"
   ],
   "metadata": {
    "collapsed": false,
    "pycharm": {
     "name": "#%%\n"
    }
   }
  },
  {
   "cell_type": "markdown",
   "source": [
    "# ex5_2"
   ],
   "metadata": {
    "collapsed": false,
    "pycharm": {
     "name": "#%% md\n"
    }
   }
  },
  {
   "cell_type": "code",
   "execution_count": 7,
   "outputs": [
    {
     "name": "stdout",
     "output_type": "stream",
     "text": [
      "No, that doesn't work.\n"
     ]
    }
   ],
   "source": [
    "#ex5_2_1\n",
    "import sys\n",
    "\n",
    "def check_fermat(a, b, c, n):\n",
    "    ## n이 2 이상인지 확인\n",
    "    if n <= 2:\n",
    "        print(\"n should be greater than 2 keep go? \\n(y/n)\")\n",
    "        _input=input(\"\")\n",
    "        if _input == \"y\":\n",
    "            pass\n",
    "        elif _input != \"y\":\n",
    "            sys.exit()\n",
    "\n",
    "    # fermat 공식의 좌변 우변 따로 계산\n",
    "    _ans1 = a ** n + b ** n\n",
    "    _ans2 = c ** n\n",
    "    if _ans1 == _ans2:\n",
    "        print(\"Holy smokes, Fermat was wrong!\")\n",
    "    elif _ans1 != _ans2:\n",
    "        print(\"No, that doesn't work.\")\n",
    "    # return None\n",
    "    return None\n",
    "\n",
    "check_fermat(a=2, b=4, c=5, n=3)"
   ],
   "metadata": {
    "collapsed": false,
    "pycharm": {
     "name": "#%%\n"
    }
   }
  },
  {
   "cell_type": "code",
   "execution_count": 8,
   "outputs": [
    {
     "name": "stdout",
     "output_type": "stream",
     "text": [
      "No, that doesn't work.\n"
     ]
    }
   ],
   "source": [
    "#ex5_2_2\n",
    "def ask_input():\n",
    "    a = int(input(\"a :\"))\n",
    "    b = int(input(\"b :\"))\n",
    "    c = int(input(\"c :\"))\n",
    "    n = int(input(\"n :\"))\n",
    "    return a,b,c,n\n",
    "\n",
    "a,b,c,n = ask_input()\n",
    "check_fermat(a,b,c,n)"
   ],
   "metadata": {
    "collapsed": false,
    "pycharm": {
     "name": "#%%\n"
    }
   }
  }
 ],
 "metadata": {
  "kernelspec": {
   "display_name": "Python 3",
   "language": "python",
   "name": "python3"
  },
  "language_info": {
   "codemirror_mode": {
    "name": "ipython",
    "version": 2
   },
   "file_extension": ".py",
   "mimetype": "text/x-python",
   "name": "python",
   "nbconvert_exporter": "python",
   "pygments_lexer": "ipython2",
   "version": "2.7.6"
  }
 },
 "nbformat": 4,
 "nbformat_minor": 0
}