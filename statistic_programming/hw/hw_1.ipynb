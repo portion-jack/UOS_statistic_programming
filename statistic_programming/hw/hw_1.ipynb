{
 "cells": [
  {
   "cell_type": "code",
   "execution_count": null,
   "metadata": {
    "collapsed": true,
    "pycharm": {
     "name": "#%%\n"
    }
   },
   "outputs": [],
   "source": [
    "\"\"\"\n",
    "과제 1\n",
    "(1) 연습 1.2 (10점)\n",
    "\n",
    "(2) 연습 2.1 (10점)\n",
    "\"\"\""
   ]
  },
  {
   "cell_type": "markdown",
   "source": [
    "# ex1_2"
   ],
   "metadata": {
    "collapsed": false,
    "pycharm": {
     "name": "#%% md\n"
    }
   }
  },
  {
   "cell_type": "code",
   "execution_count": null,
   "outputs": [],
   "source": [
    "# Exercise 1-2-1\n",
    "# 42분 42초 -> 몇초?\n",
    "def time2second(hours,minutes,seconds):\n",
    "    total_second = hours*3600 + minutes*60 + seconds\n",
    "    return total_second\n",
    "\n",
    "ans_1 = time2second(hours=0,minutes=42,seconds=42)\n",
    "print(ans_1)"
   ],
   "metadata": {
    "collapsed": false,
    "pycharm": {
     "name": "#%%\n"
    }
   }
  },
  {
   "cell_type": "code",
   "execution_count": null,
   "outputs": [],
   "source": [
    "# Exercise 1-2-2\n",
    "# 10km 몇 마일?\n",
    "def killo2mile(killo):\n",
    "    mile = killo/1.61\n",
    "    return mile\n",
    "\n",
    "ans_2 = killo2mile(killo=10)\n",
    "print(ans_2)"
   ],
   "metadata": {
    "collapsed": false,
    "pycharm": {
     "name": "#%%\n"
    }
   }
  },
  {
   "cell_type": "code",
   "execution_count": null,
   "outputs": [],
   "source": [
    "# Exercise 1-2-3\n",
    "# mile per hours?\n",
    "# mile per seconds?\n",
    "\n",
    "def mile_per_hours(mile,hours):\n",
    "    velocity = mile/hours\n",
    "    return velocity\n",
    "\n",
    "def mile_per_seconds(mile,seconds):\n",
    "    velocity = mile/seconds\n",
    "    return velocity\n",
    "\n",
    "ans_3_1 = mile_per_hours(mile=ans_2, hours= ans_1/3600)\n",
    "ans_3_2 = mile_per_seconds(mile=ans_2, seconds= ans_1)\n",
    "\n",
    "print(\"mile_per_hours :{}\".format(ans_3_1))\n",
    "print(\"mile_per_seconds :{}\".format(ans_3_2))"
   ],
   "metadata": {
    "collapsed": false,
    "pycharm": {
     "name": "#%%\n"
    }
   }
  },
  {
   "cell_type": "markdown",
   "source": [
    "# ex2_1"
   ],
   "metadata": {
    "collapsed": false,
    "pycharm": {
     "name": "#%% md\n"
    }
   }
  },
  {
   "cell_type": "code",
   "execution_count": null,
   "outputs": [],
   "source": [
    "# Exercise 2-1-1\n",
    "n = 42"
   ],
   "metadata": {
    "collapsed": false,
    "pycharm": {
     "name": "#%%\n"
    }
   }
  },
  {
   "cell_type": "code",
   "execution_count": null,
   "outputs": [],
   "source": [
    "# Exercise 2-1-1\n",
    "42 = n"
   ],
   "metadata": {
    "collapsed": false,
    "pycharm": {
     "name": "#%%\n"
    }
   }
  },
  {
   "cell_type": "code",
   "execution_count": null,
   "outputs": [],
   "source": [
    "# Exercise 2-1-2\n",
    "x = y = 1"
   ],
   "metadata": {
    "collapsed": false,
    "pycharm": {
     "name": "#%%\n"
    }
   }
  },
  {
   "cell_type": "code",
   "execution_count": null,
   "outputs": [],
   "source": [
    "# Exercise 2-1-3\n",
    "x = 1 y = 1"
   ],
   "metadata": {
    "collapsed": false,
    "pycharm": {
     "name": "#%%\n"
    }
   }
  },
  {
   "cell_type": "code",
   "execution_count": null,
   "outputs": [],
   "source": [
    "# Exercise 2-1-3\n",
    "# 보통 한 줄에 여러 구문을 사용할 때 세미콜론으로 구분해줍니다.\n",
    "x = 1; y = 1"
   ],
   "metadata": {
    "collapsed": false,
    "pycharm": {
     "name": "#%%\n"
    }
   }
  },
  {
   "cell_type": "code",
   "execution_count": null,
   "outputs": [],
   "source": [
    "# Exercise 2-1-4\n",
    "x = 1 ."
   ],
   "metadata": {
    "collapsed": false,
    "pycharm": {
     "name": "#%%\n"
    }
   }
  },
  {
   "cell_type": "code",
   "execution_count": null,
   "outputs": [],
   "source": [
    "# Exercise 2-1-5\n",
    "x = 1\n",
    "y = 1\n",
    "print(xy)"
   ],
   "metadata": {
    "collapsed": false,
    "pycharm": {
     "name": "#%%\n"
    }
   }
  }
 ],
 "metadata": {
  "kernelspec": {
   "display_name": "Python 3",
   "language": "python",
   "name": "python3"
  },
  "language_info": {
   "codemirror_mode": {
    "name": "ipython",
    "version": 2
   },
   "file_extension": ".py",
   "mimetype": "text/x-python",
   "name": "python",
   "nbconvert_exporter": "python",
   "pygments_lexer": "ipython2",
   "version": "2.7.6"
  }
 },
 "nbformat": 4,
 "nbformat_minor": 0
}