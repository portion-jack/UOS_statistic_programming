{
 "cells": [
  {
   "cell_type": "code",
   "execution_count": 1,
   "metadata": {
    "pycharm": {
     "name": "#%%\n"
    }
   },
   "outputs": [
    {
     "data": {
      "text/plain": [
       "'\\n과제 6\\n(1) 연습 12.1 \\n\\n(2) 연습 12.2.1, 12.2.2 \\n\\n(3) 연습 14.1\\n'"
      ]
     },
     "execution_count": 1,
     "metadata": {},
     "output_type": "execute_result"
    }
   ],
   "source": [
    "\"\"\"\n",
    "2019550031_물리학과_김정우_hw6\n",
    "과제 6\n",
    "(1) 연습 12.1 \n",
    "\n",
    "(2) 연습 12.2.1, 12.2.2 \n",
    "\n",
    "(3) 연습 14.1\n",
    "\"\"\""
   ]
  },
  {
   "cell_type": "code",
   "execution_count": 2,
   "metadata": {
    "pycharm": {
     "name": "#%%\n"
    }
   },
   "outputs": [],
   "source": [
    "# (1) 연습 12.1 \n",
    "\n",
    "from collections import Counter\n",
    "\n",
    "def most_frequent(_string):\n",
    "    _tuple = tuple(_string)\n",
    "    _counter = Counter(_tuple)\n",
    "    return _counter.most_common()"
   ]
  },
  {
   "cell_type": "code",
   "execution_count": 3,
   "metadata": {
    "pycharm": {
     "name": "#%%\n"
    }
   },
   "outputs": [
    {
     "data": {
      "text/plain": [
       "[('e', 14960),\n",
       " ('t', 11863),\n",
       " ('o', 11218),\n",
       " ('a', 9950),\n",
       " ('h', 8731),\n",
       " ('i', 8511),\n",
       " ('s', 8379),\n",
       " ('n', 8297),\n",
       " ('r', 7777),\n",
       " ('l', 5847)]"
      ]
     },
     "execution_count": 3,
     "metadata": {},
     "output_type": "execute_result"
    }
   ],
   "source": [
    "with open('hamlet.txt','r') as f:\n",
    "    raw_hamlet=f.read()\n",
    "    \n",
    "hamlet=''.join(filter(str.isalpha,raw_hamlet)).lower()\n",
    "most_frequent(hamlet)[:10]"
   ]
  },
  {
   "cell_type": "code",
   "execution_count": 4,
   "metadata": {
    "pycharm": {
     "name": "#%%\n"
    }
   },
   "outputs": [
    {
     "data": {
      "text/plain": [
       "[('e', 2375),\n",
       " ('a', 1407),\n",
       " ('s', 1378),\n",
       " ('i', 1257),\n",
       " ('n', 1256),\n",
       " ('r', 1122),\n",
       " ('t', 1110),\n",
       " ('u', 1107),\n",
       " ('o', 1005),\n",
       " ('l', 869)]"
      ]
     },
     "execution_count": 4,
     "metadata": {},
     "output_type": "execute_result"
    }
   ],
   "source": [
    "with open('french.txt','r') as f:\n",
    "    french=f.read()\n",
    "    \n",
    "french=''.join(filter(str.isalpha,french)).lower()\n",
    "most_frequent(french)[:10]"
   ]
  },
  {
   "cell_type": "code",
   "execution_count": 5,
   "metadata": {
    "pycharm": {
     "name": "#%%\n"
    }
   },
   "outputs": [
    {
     "data": {
      "text/plain": [
       "[['deltas', 'desalt', 'lasted', 'salted', 'slated', 'staled'],\n",
       " ['retainers', 'ternaries'],\n",
       " ['generating', 'greatening'],\n",
       " ['resmelts', 'smelters', 'termless']]"
      ]
     },
     "execution_count": 5,
     "metadata": {},
     "output_type": "execute_result"
    }
   ],
   "source": [
    "_list = ['deltas',\n",
    " 'desalt',\n",
    " 'lasted',\n",
    " 'salted',\n",
    " 'slated',\n",
    " 'staled',\n",
    " 'retainers',\n",
    " 'ternaries',\n",
    " 'generating',\n",
    " 'greatening',\n",
    " 'resmelts',\n",
    " 'smelters',\n",
    " 'termless']\n",
    "\n",
    "# (2) 연습 12.2.1, 12.2.2 \n",
    "\n",
    "# 12.2.1\n",
    "# set 을 활용하면 될것 같다.\n",
    "my_dict = dict()\n",
    "for word in _list:\n",
    "    checker = 0\n",
    "    for key in my_dict.keys():\n",
    "        if set(key) == set(word):\n",
    "            my_dict[key].append(word)\n",
    "            checker += 1\n",
    "    if checker == 0:\n",
    "        my_dict[word] = []\n",
    "        my_dict[word].append(word)\n",
    "\n",
    "list(my_dict.values())"
   ]
  },
  {
   "cell_type": "code",
   "execution_count": 6,
   "metadata": {
    "pycharm": {
     "name": "#%%\n"
    }
   },
   "outputs": [
    {
     "data": {
      "text/plain": [
       "[['deltas', 'desalt', 'lasted', 'salted', 'slated', 'staled'],\n",
       " ['retainers', 'ternaries'],\n",
       " ['generating', 'greatening'],\n",
       " ['resmelts', 'smelters', 'termless']]"
      ]
     },
     "execution_count": 6,
     "metadata": {},
     "output_type": "execute_result"
    }
   ],
   "source": [
    "_list = ['deltas',\n",
    " 'desalt',\n",
    " 'lasted',\n",
    " 'salted',\n",
    " 'slated',\n",
    " 'staled',\n",
    " 'retainers',\n",
    " 'ternaries',\n",
    " 'generating',\n",
    " 'greatening',\n",
    " 'resmelts',\n",
    " 'smelters',\n",
    " 'termless']\n",
    "\n",
    "# (2) 연습 12.2.1, 12.2.2 \n",
    "\n",
    "# 12.2.1\n",
    "# set 을 활용하면 될것 같다.\n",
    "my_dict = dict()\n",
    "for word in _list:\n",
    "    checker = 0\n",
    "    for key in my_dict.keys():\n",
    "        if set(key) == set(word):\n",
    "            my_dict[key].append(word)\n",
    "            checker += 1\n",
    "    if checker == 0:\n",
    "        my_dict[word] = []\n",
    "        my_dict[word].append(word)\n",
    "\n",
    "result=list(my_dict.values())\n",
    "result"
   ]
  },
  {
   "cell_type": "code",
   "execution_count": 7,
   "metadata": {
    "pycharm": {
     "name": "#%%\n"
    }
   },
   "outputs": [
    {
     "data": {
      "text/plain": [
       "['deltas', 'desalt', 'lasted', 'salted', 'slated', 'staled']"
      ]
     },
     "execution_count": 7,
     "metadata": {},
     "output_type": "execute_result"
    }
   ],
   "source": [
    "result_length=[len(i) for i in result]\n",
    "max_length_idx=result_length.index(max(result_length))\n",
    "result[max_length_idx]"
   ]
  },
  {
   "cell_type": "code",
   "execution_count": 8,
   "metadata": {
    "pycharm": {
     "name": "#%%\n"
    }
   },
   "outputs": [],
   "source": [
    "# (3) 연습 14.1\n",
    "# rfp : read_file_path, wfp : write_file_path\n",
    "def sed(_pattern,_replacement,rfp,wfp):\n",
    "    try:\n",
    "        file_input = open(rfp,'r')\n",
    "        file_output = open(wfp,'w')\n",
    "        \n",
    "        for _str in file_input:\n",
    "            _str = _str.replace(_pattern,_replacement)\n",
    "            file_output.write(_str)\n",
    "        \n",
    "        file_input.close()\n",
    "        file_output.close()\n",
    "        return None\n",
    "    except:\n",
    "        print(\"someting_went_wrong\")\n",
    "        return None"
   ]
  },
  {
   "cell_type": "code",
   "execution_count": null,
   "outputs": [],
   "source": [
    "# (3) 연습 14.1\n",
    "# rfp : read_file_path, wfp : write_file_path\n",
    "def sed(_pattern,_replacement,rfp,wfp):\n",
    "    try:\n",
    "        file_input = open(rfp,'r')\n",
    "        file_output = open(wfp,'w')\n",
    "        \n",
    "        for _str in file_input:\n",
    "            _str = _str.replace(_pattern,_replacement)\n",
    "            file_output.write(_str)\n",
    "        \n",
    "        file_input.close()\n",
    "        file_output.close()\n",
    "        return None\n",
    "    except:\n",
    "        print(\"someting_went_wrong\")\n",
    "        return None"
   ],
   "metadata": {
    "collapsed": false,
    "pycharm": {
     "name": "#%%\n"
    }
   }
  },
  {
   "cell_type": "code",
   "execution_count": null,
   "outputs": [],
   "source": [],
   "metadata": {
    "collapsed": false,
    "pycharm": {
     "name": "#%%\n"
    }
   }
  },
  {
   "cell_type": "code",
   "execution_count": 13,
   "metadata": {
    "pycharm": {
     "name": "#%%\n"
    }
   },
   "outputs": [],
   "source": [
    "# (3) 연습 14.1\n",
    "# rfp : read_file_path, wfp : write_file_path\n",
    "def sed(_pattern,_replacement,rfp,wfp):\n",
    "    try:\n",
    "        file_input = open(rfp,'r')\n",
    "        file_output = open(wfp,'w')\n",
    "        \n",
    "        for _str in file_input:\n",
    "            _str = _str.replace(_pattern,_replacement)\n",
    "            file_output.write(_str)\n",
    "        \n",
    "        file_input.close()\n",
    "        file_output.close()\n",
    "        return None\n",
    "    except:\n",
    "        print(\"someting_went_wrong\")\n",
    "        return None"
   ]
  },
  {
   "cell_type": "code",
   "execution_count": null,
   "metadata": {
    "pycharm": {
     "name": "#%%\n"
    }
   },
   "outputs": [],
   "source": []
  }
 ],
 "metadata": {
  "kernelspec": {
   "display_name": "Python 3 (ipykernel)",
   "language": "python",
   "name": "python3"
  },
  "language_info": {
   "codemirror_mode": {
    "name": "ipython",
    "version": 3
   },
   "file_extension": ".py",
   "mimetype": "text/x-python",
   "name": "python",
   "nbconvert_exporter": "python",
   "pygments_lexer": "ipython3",
   "version": "3.10.6"
  },
  "vscode": {
   "interpreter": {
    "hash": "2cc02b6827d4e48bdb17b601e2cf3ca7528df542fe49cf0d22abb2d5104cfdac"
   }
  }
 },
 "nbformat": 4,
 "nbformat_minor": 2
}