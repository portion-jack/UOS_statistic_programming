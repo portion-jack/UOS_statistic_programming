{
 "cells": [
  {
   "cell_type": "code",
   "execution_count": null,
   "outputs": [],
   "source": [
    "\"\"\"\n",
    "p = previous\n",
    "c = current\n",
    "\"\"\"\n",
    "my_dict = dict()\n",
    "\n",
    "count=1\n",
    "for row in range(4):\n",
    "    for col in range(3):\n",
    "            my_dict[count]=(row,col)\n",
    "            count+=1\n",
    "\n",
    "def get_len(c_l,c_r,number):\n",
    "    left=my_dict[c_l]\n",
    "    right=my_dict[c_r]\n",
    "    t = my_dict[number]\n",
    "    ll= abs(left[0]-t[0]) + abs(left[1]-t[1])\n",
    "    rl= abs(right[0]-t[0]) + abs(right[1]-t[1])\n",
    "    return ll,rl\n",
    "\n",
    "def solution(numbers, hand):\n",
    "    c_l = 10\n",
    "    c_r = 12\n",
    "    li_ans = []\n",
    "    for number in numbers:\n",
    "        if number == 0 :\n",
    "            number = 11\n",
    "        if number in [1,4,7]:\n",
    "            li_ans.append('L')\n",
    "            c_l = number\n",
    "\n",
    "        if number in [3,6,9]:\n",
    "            li_ans.append('R')\n",
    "            c_r = number\n",
    "\n",
    "        elif number in [2,5,8,11]:\n",
    "            ll,lr=get_len(c_l,c_r,number)\n",
    "            if ll < lr:\n",
    "                li_ans.append('L')\n",
    "                c_l = number\n",
    "            elif ll > lr:\n",
    "                li_ans.append('R')\n",
    "                c_r = number\n",
    "            elif (ll == lr) and (hand == 'left'):\n",
    "                li_ans.append('L')\n",
    "                c_l = number\n",
    "            elif (ll == lr) and (hand == 'right'):\n",
    "                li_ans.append('R')\n",
    "                c_r = number\n",
    "\n",
    "\n",
    "    answer = ''.join(li_ans)\n",
    "    print(my_dict)\n",
    "    return answer"
   ],
   "metadata": {
    "collapsed": false,
    "pycharm": {
     "name": "#%%\n"
    }
   }
  }
 ],
 "metadata": {
  "kernelspec": {
   "display_name": "Python 3",
   "language": "python",
   "name": "python3"
  },
  "language_info": {
   "codemirror_mode": {
    "name": "ipython",
    "version": 2
   },
   "file_extension": ".py",
   "mimetype": "text/x-python",
   "name": "python",
   "nbconvert_exporter": "python",
   "pygments_lexer": "ipython2",
   "version": "2.7.6"
  }
 },
 "nbformat": 4,
 "nbformat_minor": 0
}