{
 "cells": [
  {
   "cell_type": "code",
   "execution_count": null,
   "metadata": {
    "pycharm": {
     "name": "#%%\n"
    }
   },
   "outputs": [],
   "source": [
    "def right_justify(s):\n",
    "    _space = 70-len(s)\n",
    "    print(\" \"*_space+s)\n",
    "    return None\n",
    "\n",
    "right_justify(\"monty\")"
   ]
  },
  {
   "cell_type": "code",
   "execution_count": null,
   "metadata": {
    "pycharm": {
     "name": "#%%\n"
    }
   },
   "outputs": [],
   "source": [
    "# 3_2_1\n",
    "def do_twice(f):\n",
    "    f()\n",
    "    f()\n",
    "    return None\n",
    "\n",
    "def print_spam():\n",
    "    print(\"spam\")\n",
    "    return None\n",
    "\n",
    "do_twice(print_spam)"
   ]
  },
  {
   "cell_type": "code",
   "execution_count": null,
   "metadata": {
    "pycharm": {
     "name": "#%%\n"
    }
   },
   "outputs": [],
   "source": [
    "#3_2_2\n",
    "def do_twice(f,arg):\n",
    "    f(arg)\n",
    "    f(arg)\n",
    "    return None"
   ]
  },
  {
   "cell_type": "code",
   "execution_count": null,
   "metadata": {
    "pycharm": {
     "name": "#%%\n"
    }
   },
   "outputs": [],
   "source": [
    "#3_2_3\n",
    "def print_twice(arg):\n",
    "    print(arg)\n",
    "    print(arg)\n",
    "    return None"
   ]
  },
  {
   "cell_type": "code",
   "execution_count": null,
   "metadata": {
    "pycharm": {
     "name": "#%%\n"
    }
   },
   "outputs": [],
   "source": [
    "#3_2_4\n",
    "do_twice(print_twice,\"spam\")"
   ]
  },
  {
   "cell_type": "code",
   "execution_count": null,
   "metadata": {
    "pycharm": {
     "name": "#%%\n"
    }
   },
   "outputs": [],
   "source": [
    "#3_2_5\n",
    "def do_four(f,arg):\n",
    "    do_twice(f,arg)\n",
    "    do_twice(f,arg)\n",
    "    return None\n",
    "\n",
    "do_four(print_twice,\"spam\")"
   ]
  },
  {
   "cell_type": "code",
   "execution_count": null,
   "outputs": [],
   "source": [
    "#ex5_3\n",
    "\n",
    "a = int(input(\"a :\"))\n",
    "b = int(input(\"b :\"))\n",
    "c = int(input(\"c :\"))\n",
    "n = int(input(\"n :\"))\n",
    "\n",
    "if n <= 2 :\n",
    "    print(\"그건 페르마의 정리와 무관한데,\\n진행?\")\n",
    "    ans=input(\"진행 (y/n)\")\n",
    "    if ans != \"y\":\n",
    "        raise ValueError\n",
    "\n",
    "\n",
    "\n",
    "def check_fermat(a, b, c, n):\n",
    "    _ans1 = a ** n + b ** n\n",
    "    _ans2 = c ** n\n",
    "    if _ans1 == _ans2:\n",
    "        print(\"페르마가 틀렸다.\")\n",
    "    elif _ans1 != _ans2:\n",
    "        print(\"아냐, 그건아니지.\")\n",
    "\n",
    "\n",
    "check_fermat(a, b, c, n)"
   ],
   "metadata": {
    "collapsed": false,
    "pycharm": {
     "name": "#%%\n"
    }
   }
  },
  {
   "cell_type": "code",
   "execution_count": null,
   "metadata": {
    "pycharm": {
     "name": "#%%\n"
    }
   },
   "outputs": [],
   "source": [
    "# ex5_4\n",
    "a = int(input(\"a :\"))\n",
    "b = int(input(\"b :\"))\n",
    "c = int(input(\"c :\"))\n",
    "\n",
    "\n",
    "def is_triangle(a, b, c):\n",
    "    _list = [a, b, c]\n",
    "    _list.sort()\n",
    "    _len_sum = _list[0] + _list[1]\n",
    "    _len_long = _list[2]\n",
    "    if _len_sum <= _len_long:\n",
    "        print(\"이것은 삼각형을 만들 수 없습니다.\")\n",
    "    if _len_long < _len_long:\n",
    "        print(\"이것은 삼격형이 될 수 있습니다.\")\n",
    "\n",
    "is_triangle(a, b, c)"
   ]
  }
 ],
 "metadata": {
  "kernelspec": {
   "display_name": "Python 3.10.6 ('stat_programming')",
   "language": "python",
   "name": "python3"
  },
  "language_info": {
   "codemirror_mode": {
    "name": "ipython",
    "version": 3
   },
   "file_extension": ".py",
   "mimetype": "text/x-python",
   "name": "python",
   "nbconvert_exporter": "python",
   "pygments_lexer": "ipython3",
   "version": "3.10.6"
  },
  "orig_nbformat": 4,
  "vscode": {
   "interpreter": {
    "hash": "2cc02b6827d4e48bdb17b601e2cf3ca7528df542fe49cf0d22abb2d5104cfdac"
   }
  }
 },
 "nbformat": 4,
 "nbformat_minor": 2
}