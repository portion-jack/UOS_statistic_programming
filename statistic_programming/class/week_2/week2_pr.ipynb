{
 "cells": [
  {
   "cell_type": "code",
   "execution_count": 1,
   "metadata": {},
   "outputs": [
    {
     "name": "stdout",
     "output_type": "stream",
     "text": [
      "Package                       Version\n",
      "----------------------------- -----------\n",
      "appnope                       0.1.3\n",
      "argon2-cffi                   21.3.0\n",
      "argon2-cffi-bindings          21.2.0\n",
      "asttokens                     2.0.8\n",
      "attrs                         22.1.0\n",
      "backcall                      0.2.0\n",
      "backports.functools-lru-cache 1.6.4\n",
      "beautifulsoup4                4.11.1\n",
      "bleach                        5.0.1\n",
      "cffi                          1.15.1\n",
      "debugpy                       1.6.3\n",
      "decorator                     5.1.1\n",
      "defusedxml                    0.7.1\n",
      "entrypoints                   0.4\n",
      "executing                     1.0.0\n",
      "fastjsonschema                2.16.1\n",
      "flit_core                     3.7.1\n",
      "importlib-metadata            4.11.4\n",
      "importlib-resources           5.9.0\n",
      "ipykernel                     6.15.2\n",
      "ipython                       8.5.0\n",
      "ipython-genutils              0.2.0\n",
      "ipywidgets                    8.0.2\n",
      "jedi                          0.18.1\n",
      "Jinja2                        3.1.2\n",
      "jsonschema                    4.15.0\n",
      "jupyter                       1.0.0\n",
      "jupyter_client                7.3.5\n",
      "jupyter-console               6.4.4\n",
      "jupyter_core                  4.11.1\n",
      "jupyterlab-pygments           0.2.2\n",
      "jupyterlab-widgets            3.0.3\n",
      "MarkupSafe                    2.1.1\n",
      "matplotlib-inline             0.1.6\n",
      "mistune                       0.8.4\n",
      "nbclient                      0.5.13\n",
      "nbconvert                     6.4.5\n",
      "nbformat                      5.4.0\n",
      "nest-asyncio                  1.5.5\n",
      "notebook                      6.4.12\n",
      "packaging                     21.3\n",
      "pandocfilters                 1.5.0\n",
      "parso                         0.8.3\n",
      "pexpect                       4.8.0\n",
      "pickleshare                   0.7.5\n",
      "pip                           22.2.2\n",
      "pkgutil_resolve_name          1.3.10\n",
      "prometheus-client             0.14.1\n",
      "prompt-toolkit                3.0.31\n",
      "psutil                        5.9.2\n",
      "ptyprocess                    0.7.0\n",
      "pure-eval                     0.2.2\n",
      "pycparser                     2.21\n",
      "Pygments                      2.13.0\n",
      "pyparsing                     3.0.9\n",
      "pyrsistent                    0.18.1\n",
      "python-dateutil               2.8.2\n",
      "pyzmq                         23.2.1\n",
      "Send2Trash                    1.8.0\n",
      "setuptools                    65.3.0\n",
      "six                           1.16.0\n",
      "soupsieve                     2.3.2.post1\n",
      "stack-data                    0.5.0\n",
      "swampy                        3.0.1\n",
      "terminado                     0.15.0\n",
      "testpath                      0.6.0\n",
      "tornado                       6.2\n",
      "traitlets                     5.3.0\n",
      "wcwidth                       0.2.5\n",
      "webencodings                  0.5.1\n",
      "wheel                         0.37.1\n",
      "widgetsnbextension            4.0.3\n",
      "zipp                          3.8.1\n"
     ]
    }
   ],
   "source": [
    "!pip3 list"
   ]
  }
 ],
 "metadata": {
  "kernelspec": {
   "display_name": "Python 3.10.6 ('stat_programming')",
   "language": "python",
   "name": "python3"
  },
  "language_info": {
   "codemirror_mode": {
    "name": "ipython",
    "version": 3
   },
   "file_extension": ".py",
   "mimetype": "text/x-python",
   "name": "python",
   "nbconvert_exporter": "python",
   "pygments_lexer": "ipython3",
   "version": "3.10.6"
  },
  "orig_nbformat": 4,
  "vscode": {
   "interpreter": {
    "hash": "2cc02b6827d4e48bdb17b601e2cf3ca7528df542fe49cf0d22abb2d5104cfdac"
   }
  }
 },
 "nbformat": 4,
 "nbformat_minor": 2
}
