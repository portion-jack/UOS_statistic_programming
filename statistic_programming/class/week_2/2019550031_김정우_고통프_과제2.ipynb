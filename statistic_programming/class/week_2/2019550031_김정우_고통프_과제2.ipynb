{
 "cells": [
  {
   "cell_type": "markdown",
   "metadata": {
    "pycharm": {
     "name": "#%% md\n"
    }
   },
   "source": [
    "# 3_1"
   ]
  },
  {
   "cell_type": "code",
   "execution_count": null,
   "metadata": {
    "pycharm": {
     "name": "#%%\n"
    }
   },
   "outputs": [],
   "source": [
    "def right_justify(s):\n",
    "    _space = 70-len(s)\n",
    "    print(\" \"*_space+s)\n",
    "    return None\n",
    "\n",
    "right_justify(\"monty\")"
   ]
  },
  {
   "cell_type": "markdown",
   "metadata": {
    "pycharm": {
     "name": "#%% md\n"
    }
   },
   "source": [
    "# 3_2"
   ]
  },
  {
   "cell_type": "code",
   "execution_count": null,
   "metadata": {
    "pycharm": {
     "name": "#%%\n"
    }
   },
   "outputs": [],
   "source": [
    "# 3_2_1\n",
    "def do_twice(f):\n",
    "    f()\n",
    "    f()\n",
    "    return None\n",
    "\n",
    "def print_spam():\n",
    "    print(\"spam\")\n",
    "    return None\n",
    "\n",
    "do_twice(print_spam)"
   ]
  },
  {
   "cell_type": "code",
   "execution_count": null,
   "metadata": {
    "pycharm": {
     "name": "#%%\n"
    }
   },
   "outputs": [],
   "source": [
    "#3_2_2\n",
    "def do_twice(f,arg):\n",
    "    f(arg)\n",
    "    f(arg)\n",
    "    return None"
   ]
  },
  {
   "cell_type": "code",
   "execution_count": null,
   "metadata": {
    "pycharm": {
     "name": "#%%\n"
    }
   },
   "outputs": [],
   "source": [
    "#3_2_3\n",
    "def print_twice(arg):\n",
    "    print(arg)\n",
    "    print(arg)\n",
    "    return None"
   ]
  },
  {
   "cell_type": "code",
   "execution_count": null,
   "metadata": {
    "pycharm": {
     "name": "#%%\n"
    }
   },
   "outputs": [],
   "source": [
    "#3_2_4\n",
    "do_twice(print_twice,\"spam\")"
   ]
  },
  {
   "cell_type": "code",
   "execution_count": null,
   "metadata": {
    "pycharm": {
     "name": "#%%\n"
    }
   },
   "outputs": [],
   "source": [
    "#3_2_5\n",
    "def do_four(f,arg):\n",
    "    do_twice(f,arg)\n",
    "    do_twice(f,arg)\n",
    "    return None\n",
    "\n",
    "do_four(print_twice,\"spam\")"
   ]
  },
  {
   "cell_type": "markdown",
   "metadata": {
    "pycharm": {
     "name": "#%% md\n"
    }
   },
   "source": [
    "# ex5_2"
   ]
  },
  {
   "cell_type": "code",
   "execution_count": null,
   "metadata": {
    "pycharm": {
     "name": "#%%\n"
    }
   },
   "outputs": [],
   "source": [
    "#ex5_3_1\n",
    "import sys\n",
    "\n",
    "def check_fermat(a, b, c, n):\n",
    "    ## n이 2 이상인지 확인\n",
    "    if n <= 2:\n",
    "        print(\"n should be greater than 2 keep go? \\n(y/n)\")\n",
    "        _input=input(\"\")\n",
    "        if _input == \"y\":\n",
    "            pass\n",
    "        elif _input != \"y\":\n",
    "            sys.exit()\n",
    "\n",
    "    # fermat 공식의 좌변 우변 따로 계산\n",
    "    _ans1 = a ** n + b ** n\n",
    "    _ans2 = c ** n\n",
    "    if _ans1 == _ans2:\n",
    "        print(\"Holy smokes, Fermat was wrong!\")\n",
    "    elif _ans1 != _ans2:\n",
    "        print(\"No, that doesn't work.\")\n",
    "    # return None\n",
    "    return None\n",
    "\n",
    "check_fermat(a=2, b=4, c=5, n=3)"
   ]
  },
  {
   "cell_type": "code",
   "execution_count": null,
   "metadata": {
    "pycharm": {
     "name": "#%%\n"
    }
   },
   "outputs": [],
   "source": [
    "#ex5_3_2\n",
    "def ask_input():\n",
    "    a = int(input(\"a :\"))\n",
    "    b = int(input(\"b :\"))\n",
    "    c = int(input(\"c :\"))\n",
    "    n = int(input(\"n :\"))\n",
    "    return a,b,c,n\n",
    "\n",
    "a,b,c,n = ask_input()\n",
    "check_fermat(a,b,c,n)"
   ]
  }
 ],
 "metadata": {
  "kernelspec": {
   "display_name": "Python 3 (ipykernel)",
   "language": "python",
   "name": "python3"
  },
  "language_info": {
   "codemirror_mode": {
    "name": "ipython",
    "version": 3
   },
   "file_extension": ".py",
   "mimetype": "text/x-python",
   "name": "python",
   "nbconvert_exporter": "python",
   "pygments_lexer": "ipython3",
   "version": "3.10.6"
  }
 },
 "nbformat": 4,
 "nbformat_minor": 1
}