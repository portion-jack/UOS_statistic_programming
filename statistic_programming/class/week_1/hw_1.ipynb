{
 "cells": [
  {
   "cell_type": "code",
   "execution_count": null,
   "metadata": {
    "pycharm": {
     "name": "#%%\n"
    }
   },
   "outputs": [],
   "source": [
    "# Exercise 1-2-1\n",
    "# 42분 42초 -> 몇초?\n",
    "def time2second(hours,minutes,seconds):\n",
    "    total_second = hours*3600 + minutes*60 + seconds\n",
    "    return total_second\n",
    "\n",
    "ans_1 = time2second(hours=0,minutes=42,seconds=42)\n",
    "print(ans_1)"
   ]
  },
  {
   "cell_type": "code",
   "execution_count": null,
   "metadata": {
    "collapsed": false,
    "pycharm": {
     "name": "#%%\n"
    }
   },
   "outputs": [],
   "source": [
    "# Exercise 1-2-2\n",
    "# 10km 몇 마일?\n",
    "def killo2mile(killo):\n",
    "    mile = killo/1.61\n",
    "    return mile\n",
    "\n",
    "ans_2 = killo2mile(killo=10)\n",
    "print(ans_2)"
   ]
  },
  {
   "cell_type": "code",
   "execution_count": null,
   "metadata": {
    "collapsed": false,
    "pycharm": {
     "name": "#%%\n"
    }
   },
   "outputs": [],
   "source": [
    "# Exercise 1-2-3\n",
    "# mile per hours?\n",
    "# mile per seconds?\n",
    "\n",
    "def mile_per_hours(mile,hours):\n",
    "    velocity = mile/hours\n",
    "    return velocity\n",
    "\n",
    "def mile_per_seconds(mile,seconds):\n",
    "    velocity = mile/seconds\n",
    "    return velocity\n",
    "\n",
    "ans_3_1 = mile_per_hours(mile=ans_2, hours= ans_1/3600)\n",
    "ans_3_2 = mile_per_seconds(mile=ans_2, seconds= ans_1)\n",
    "\n",
    "print(\"mile_per_hours :{}\".format(ans_3_1))\n",
    "print(\"mile_per_seconds :{}\".format(ans_3_2))"
   ]
  },
  {
   "cell_type": "code",
   "execution_count": null,
   "metadata": {
    "pycharm": {
     "name": "#%%\n"
    }
   },
   "outputs": [],
   "source": [
    "# Exercise 2-1-1\n",
    "n = 42"
   ]
  },
  {
   "cell_type": "code",
   "execution_count": null,
   "metadata": {
    "pycharm": {
     "name": "#%%\n"
    }
   },
   "outputs": [],
   "source": [
    "# Exercise 2-1-1\n",
    "42 = n"
   ]
  },
  {
   "cell_type": "code",
   "execution_count": null,
   "metadata": {
    "pycharm": {
     "name": "#%%\n"
    }
   },
   "outputs": [],
   "source": [
    "# Exercise 2-1-2\n",
    "x = y = 1"
   ]
  },
  {
   "cell_type": "code",
   "execution_count": null,
   "metadata": {
    "pycharm": {
     "name": "#%%\n"
    }
   },
   "outputs": [],
   "source": [
    "# Exercise 2-1-3\n",
    "x = 1 y = 1"
   ]
  },
  {
   "cell_type": "code",
   "execution_count": null,
   "metadata": {
    "pycharm": {
     "name": "#%%\n"
    }
   },
   "outputs": [],
   "source": [
    "# Exercise 2-1-3\n",
    "# 보통 한 줄에 여러 구문을 사용할 때 세미콜론으로 구분해줍니다.\n",
    "x = 1; y = 1"
   ]
  },
  {
   "cell_type": "code",
   "execution_count": null,
   "metadata": {
    "pycharm": {
     "name": "#%%\n"
    }
   },
   "outputs": [],
   "source": [
    "# Exercise 2-1-4\n",
    "x = 1 ."
   ]
  },
  {
   "cell_type": "code",
   "execution_count": null,
   "metadata": {
    "pycharm": {
     "name": "#%%\n"
    }
   },
   "outputs": [],
   "source": [
    "# Exercise 2-1-5\n",
    "x = 1\n",
    "y = 1 \n",
    "print(xy)"
   ]
  }
 ],
 "metadata": {
  "kernelspec": {
   "display_name": "Python 3.10.6 ('vscode')",
   "language": "python",
   "name": "python3"
  },
  "language_info": {
   "codemirror_mode": {
    "name": "ipython",
    "version": 3
   },
   "file_extension": ".py",
   "mimetype": "text/x-python",
   "name": "python",
   "nbconvert_exporter": "python",
   "pygments_lexer": "ipython3",
   "version": "3.10.6"
  },
  "orig_nbformat": 4,
  "vscode": {
   "interpreter": {
    "hash": "0cd0ca3843055f6c67784ffa9bbda3993bf1e6b764992b758004288f2313c2eb"
   }
  }
 },
 "nbformat": 4,
 "nbformat_minor": 2
}