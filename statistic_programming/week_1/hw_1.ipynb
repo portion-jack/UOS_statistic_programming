{
 "cells": [
  {
   "cell_type": "code",
   "execution_count": null,
   "metadata": {
    "pycharm": {
     "name": "#%%\n"
    }
   },
   "outputs": [],
   "source": [
    "# Exercise 1-2-1\n",
    "def time2second(hours,minutes,seconds):\n",
    "    total_second = hours*3600 + minutes*60 + seconds\n",
    "    return total_second\n",
    "\n",
    "ans_1 = time2second(hours=0,minutes=42,seconds=42)\n",
    "print(ans_1)"
   ]
  },
  {
   "cell_type": "code",
   "execution_count": null,
   "outputs": [],
   "source": [
    "# Exercise 1-2-2\n",
    "def killo2mile(killo):\n",
    "    mile = killo/1.61\n",
    "    return mile\n",
    "\n",
    "ans_2 = killo2mile(killo=10)\n",
    "print(ans_2)"
   ],
   "metadata": {
    "collapsed": false,
    "pycharm": {
     "name": "#%%\n"
    }
   }
  },
  {
   "cell_type": "code",
   "execution_count": null,
   "outputs": [],
   "source": [
    "# Exercise 1-2-3\n",
    "def mile_per_hours(mile,hour):\n",
    "    velocity = mile/hour\n",
    "    return velocity\n",
    "\n",
    "ans_3 = mile_per_hours(mile=ans_2, hour= ans_1/3600)\n",
    "print(ans_3)"
   ],
   "metadata": {
    "collapsed": false,
    "pycharm": {
     "name": "#%%\n"
    }
   }
  },
  {
   "cell_type": "code",
   "execution_count": null,
   "metadata": {
    "pycharm": {
     "name": "#%%\n"
    }
   },
   "outputs": [],
   "source": [
    "# Exercise 2-1-1\n",
    "n = 42"
   ]
  },
  {
   "cell_type": "code",
   "execution_count": null,
   "metadata": {
    "pycharm": {
     "name": "#%%\n"
    }
   },
   "outputs": [],
   "source": [
    "# Exercise 2-1-1\n",
    "42 = n"
   ]
  },
  {
   "cell_type": "code",
   "execution_count": null,
   "metadata": {
    "pycharm": {
     "name": "#%%\n"
    }
   },
   "outputs": [],
   "source": [
    "# Exercise 2-1-2\n",
    "x = y = 1"
   ]
  },
  {
   "cell_type": "code",
   "execution_count": null,
   "metadata": {
    "pycharm": {
     "name": "#%%\n"
    }
   },
   "outputs": [],
   "source": [
    "# Exercise 2-1-3\n",
    "x = 1 y = 1"
   ]
  },
  {
   "cell_type": "code",
   "execution_count": null,
   "metadata": {
    "pycharm": {
     "name": "#%%\n"
    }
   },
   "outputs": [],
   "source": [
    "# Exercise 2-1-3\n",
    "# 보통 한 줄에 여러 구문을 사용할 때 세미콜론으로 구분해줍니다.\n",
    "x = 1; y = 1"
   ]
  },
  {
   "cell_type": "code",
   "execution_count": null,
   "metadata": {
    "pycharm": {
     "name": "#%%\n"
    }
   },
   "outputs": [],
   "source": [
    "# Exercise 2-1-4\n",
    "x = 1 ."
   ]
  },
  {
   "cell_type": "code",
   "execution_count": null,
   "metadata": {
    "pycharm": {
     "name": "#%%\n"
    }
   },
   "outputs": [],
   "source": [
    "# Exercise 2-1-5\n",
    "x = 1\n",
    "y = 1 \n",
    "print(xy)"
   ]
  }
 ],
 "metadata": {
  "kernelspec": {
   "display_name": "Python 3.10.6 ('web_crawling')",
   "language": "python",
   "name": "python3"
  },
  "language_info": {
   "codemirror_mode": {
    "name": "ipython",
    "version": 3
   },
   "file_extension": ".py",
   "mimetype": "text/x-python",
   "name": "python",
   "nbconvert_exporter": "python",
   "pygments_lexer": "ipython3",
   "version": "3.10.6"
  },
  "orig_nbformat": 4,
  "vscode": {
   "interpreter": {
    "hash": "16c5ce58024fe62cd7fa0d3a2b6e9ae6d6b5830bd292fcf8b91a59650f434145"
   }
  }
 },
 "nbformat": 4,
 "nbformat_minor": 2
}