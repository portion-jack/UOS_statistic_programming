{
 "cells": [
  {
   "cell_type": "markdown",
   "metadata": {},
   "source": [
    "## Newton method"
   ]
  },
  {
   "cell_type": "code",
   "execution_count": 2,
   "metadata": {},
   "outputs": [],
   "source": [
    "import numpy as np"
   ]
  },
  {
   "cell_type": "code",
   "execution_count": 43,
   "metadata": {},
   "outputs": [
    {
     "name": "stdout",
     "output_type": "stream",
     "text": [
      "iteration ==> 1 / current_theta = 50.04 g_theta = 0.643 g_prime_theta = -3.483\n",
      "iteration ==> 2 / current_theta = 50.224 g_theta = 0.007 g_prime_theta = -3.401\n",
      "iteration ==> 3 / current_theta = 50.227 g_theta = 0.0 g_prime_theta = -3.4\n"
     ]
    }
   ],
   "source": [
    "x_set=np.random.randint(1,100,100)\n",
    "\n",
    "initial_theta = np.mean(x_set)\n",
    "n=len(x_set)\n",
    "__iter__ = 10\n",
    "\n",
    "current_theta = initial_theta\n",
    "for _ in range(1,__iter__+1):\n",
    "    g_theta = n-2*np.sum((np.exp((-x_set+current_theta)) / (1+np.exp((-x_set+current_theta)))))\n",
    "    g_prime_theta = -2*np.sum((np.exp((-x_set+current_theta)) / (1+np.exp((-x_set+current_theta)))**2))\n",
    "    updated_theta = current_theta + ((-1*g_prime_theta)**-1)*g_theta\n",
    "    \n",
    "    print(f'iteration ==> {round(_,3)} / current_theta = {round(current_theta,3)} g_theta = {round(g_theta,3)} g_prime_theta = {round(g_prime_theta,3)}')\n",
    "    \n",
    "    if abs(current_theta-updated_theta) < 1e-5:\n",
    "        break\n",
    "    current_theta = updated_theta"
   ]
  },
  {
   "cell_type": "code",
   "execution_count": null,
   "metadata": {},
   "outputs": [],
   "source": []
  }
 ],
 "metadata": {
  "kernelspec": {
   "display_name": "Python 3.10.6 ('crawling')",
   "language": "python",
   "name": "python3"
  },
  "language_info": {
   "codemirror_mode": {
    "name": "ipython",
    "version": 3
   },
   "file_extension": ".py",
   "mimetype": "text/x-python",
   "name": "python",
   "nbconvert_exporter": "python",
   "pygments_lexer": "ipython3",
   "version": "3.10.6"
  },
  "orig_nbformat": 4,
  "vscode": {
   "interpreter": {
    "hash": "10621530bc52bc3dcaea48e2b7ef028942e35d2e6e9c9234a88fefd069caf90f"
   }
  }
 },
 "nbformat": 4,
 "nbformat_minor": 2
}
