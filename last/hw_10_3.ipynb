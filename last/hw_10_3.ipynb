{
 "cells": [
  {
   "cell_type": "code",
   "execution_count": 4,
   "metadata": {},
   "outputs": [],
   "source": [
    "import tkinter as tk\n",
    "\n",
    "master = tk.Tk()\n",
    " \n",
    "master.title(\"대출 계산기\")\n",
    " \n",
    "master.geometry(\"700x250\")\n",
    " \n",
    " \n",
    "e1 = tk.Entry(master)\n",
    "e2 = tk.Entry(master)\n",
    "e3 = tk.Entry(master)\n",
    " \n",
    " \n",
    " \n",
    "def display():\n",
    "    이자율 = float(e1.get())\n",
    "    대출연수 = float(e2.get())\n",
    "    대출원금 = float(e3.get())\n",
    "    \n",
    "    \n",
    "    대출월수 = 대출연수 * 12\n",
    "    월별이자율 = 이자율 / 12\n",
    "    \n",
    "    월상환금액 = ((대출원금 * 월별이자율) * (1 + 월별이자율)**대출월수)\\\n",
    "               /((1+월별이자율)**대출월수 -1)\n",
    "    총상환금액 = 월상환금액 * 대출월수\n",
    "    \n",
    "    \n",
    "\n",
    "    tk.Label(master, text=str(총상환금액)).grid(row=8, column=4)\n",
    "     \n",
    "\n",
    "    tk.Label(master, text=str(월상환금액)).grid(row=8, column=5)\n",
    " \n",
    "     \n",
    " \n",
    " \n",
    "tk.Label(master, text=\"조건\").grid(row=2, column=1)\n",
    "tk.Label(master, text=\"이자율\").grid(row=3, column=1)\n",
    "tk.Label(master, text=\"대출연수\").grid(row=4, column=1)\n",
    "tk.Label(master, text=\"대출원금\").grid(row=5, column=1)\n",
    "     \n",
    "\n",
    "tk.Label(master, text=\"Grade\").grid(row=2, column=2)\n",
    "e1.grid(row=3, column=2)\n",
    "e2.grid(row=4, column=2)\n",
    "e3.grid(row=5, column=2)\n",
    "\n",
    "button1=tk.Button(master, text=\"submit\", bg=\"green\", command=display)\n",
    "button1.grid(row=8, column=1)\n",
    "\n",
    "tk.Label(master, text=\"월\").grid(row=7, column=4)\n",
    "tk.Label(master, text=\"월\").grid(row=7, column=5)\n",
    "tk.Label(master, text=\"상환금액\").grid(row=8, column=3)\n",
    "     \n",
    "master.mainloop()"
   ]
  }
 ],
 "metadata": {
  "kernelspec": {
   "display_name": "Python 3 (ipykernel)",
   "language": "python",
   "name": "python3"
  },
  "language_info": {
   "codemirror_mode": {
    "name": "ipython",
    "version": 3
   },
   "file_extension": ".py",
   "mimetype": "text/x-python",
   "name": "python",
   "nbconvert_exporter": "python",
   "pygments_lexer": "ipython3",
   "version": "3.10.6"
  },
  "vscode": {
   "interpreter": {
    "hash": "2cc02b6827d4e48bdb17b601e2cf3ca7528df542fe49cf0d22abb2d5104cfdac"
   }
  }
 },
 "nbformat": 4,
 "nbformat_minor": 2
}
