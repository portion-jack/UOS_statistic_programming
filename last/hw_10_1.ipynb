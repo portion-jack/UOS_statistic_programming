{
 "cells": [
  {
   "cell_type": "code",
   "execution_count": 1,
   "metadata": {
    "pycharm": {
     "name": "#%%\n"
    }
   },
   "outputs": [
    {
     "name": "stdout",
     "output_type": "stream",
     "text": [
      "Hello World\n"
     ]
    }
   ],
   "source": [
    "print('Hello World')"
   ]
  },
  {
   "cell_type": "code",
   "execution_count": null,
   "metadata": {
    "pycharm": {
     "name": "#%%\n"
    }
   },
   "outputs": [],
   "source": [
    "import random\n",
    "\n",
    "score = 0\n",
    "iter = 0\n",
    "while True:\n",
    "    iter += 1\n",
    "    numbers = [random.randint(1,100) for i in range(2)]\n",
    "    operation = random.choice([\"+\",\"-\"])\n",
    "    print(numbers[0],operation,numbers[1],'= ?')\n",
    "    prob = str(numbers[0])+operation+str(numbers[1])\n",
    "    answer=input('ans : ')\n",
    "    if answer ==\"done\":\n",
    "        break\n",
    "    elif answer == str(eval(prob)):\n",
    "        score += 1\n",
    "        print('정답')\n",
    "    elif answer != str(eval(prob)):\n",
    "        print('오답')\n",
    "print(f'점수는 {int((score/iter)*100)}')"
   ]
  }
 ],
 "metadata": {
  "kernelspec": {
   "display_name": "Python 3 (ipykernel)",
   "language": "python",
   "name": "python3"
  },
  "language_info": {
   "codemirror_mode": {
    "name": "ipython",
    "version": 3
   },
   "file_extension": ".py",
   "mimetype": "text/x-python",
   "name": "python",
   "nbconvert_exporter": "python",
   "pygments_lexer": "ipython3",
   "version": "3.10.6"
  },
  "vscode": {
   "interpreter": {
    "hash": "10621530bc52bc3dcaea48e2b7ef028942e35d2e6e9c9234a88fefd069caf90f"
   }
  }
 },
 "nbformat": 4,
 "nbformat_minor": 2
}